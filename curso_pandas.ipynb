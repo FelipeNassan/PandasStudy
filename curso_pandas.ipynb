{
 "cells": [
  {
   "cell_type": "markdown",
   "id": "1ce24ad8",
   "metadata": {},
   "source": [
    "# Pandas"
   ]
  },
  {
   "cell_type": "code",
   "execution_count": null,
   "id": "819d419b",
   "metadata": {},
   "outputs": [],
   "source": [
    "# Importação das bibliotecas necessárias\n",
    "import pandas as pd\n",
    "import numpy as np\n",
    "\n",
    "# É possível ver a versão das bibliotecas com os comandos abaixo\n",
    "print(pd.__version__)\n",
    "print(np.__version__)"
   ]
  },
  {
   "cell_type": "markdown",
   "id": "3942e807",
   "metadata": {},
   "source": [
    "## Series\n",
    "\n",
    "- Documentação: https://pandas.pydata.org/docs/reference/api/pandas.Series.html"
   ]
  },
  {
   "cell_type": "markdown",
   "id": "fa75ac44",
   "metadata": {},
   "source": [
    "### Criação de series"
   ]
  },
  {
   "cell_type": "code",
   "execution_count": null,
   "id": "bde5b5e6",
   "metadata": {},
   "outputs": [],
   "source": [
    "serie_dados = pd.Series([10, 20, 30, 40, 50])\n",
    "print(serie_dados) # aparece o tipo (dtype) dos valores"
   ]
  },
  {
   "cell_type": "code",
   "execution_count": null,
   "id": "8fa9bfdb",
   "metadata": {},
   "outputs": [],
   "source": [
    "type(serie_dados) # Tipo de dados da série"
   ]
  },
  {
   "cell_type": "code",
   "execution_count": null,
   "id": "36f61c8d",
   "metadata": {},
   "outputs": [],
   "source": [
    "array_inteiros = [10, 20, 30, 40, 50]\n",
    "indices = ['A', 'B', 'C', 'D', 'E']\n",
    "serie_dados = pd.Series(array_inteiros, index=indices)\n",
    "print(serie_dados)"
   ]
  },
  {
   "cell_type": "code",
   "execution_count": null,
   "id": "cc61bf43",
   "metadata": {},
   "outputs": [],
   "source": [
    "np_array_inteiros = np.array([10, 20, 30, 40, 50])\n",
    "print(np_array_inteiros)"
   ]
  },
  {
   "cell_type": "code",
   "execution_count": null,
   "id": "85a0b6c5",
   "metadata": {},
   "outputs": [],
   "source": [
    "type(np_array_inteiros)"
   ]
  },
  {
   "cell_type": "code",
   "execution_count": null,
   "id": "82a46ea5",
   "metadata": {},
   "outputs": [],
   "source": [
    "serie_dados = pd.Series(array_inteiros)\n",
    "print(serie_dados)"
   ]
  },
  {
   "cell_type": "code",
   "execution_count": null,
   "id": "163c41c9",
   "metadata": {},
   "outputs": [],
   "source": [
    "serie_dados.shape"
   ]
  },
  {
   "cell_type": "code",
   "execution_count": null,
   "id": "119726c1",
   "metadata": {},
   "outputs": [],
   "source": [
    "serie_dados.ndim"
   ]
  },
  {
   "cell_type": "code",
   "execution_count": null,
   "id": "7bdc1a4f",
   "metadata": {},
   "outputs": [],
   "source": [
    "serie_dados.size"
   ]
  },
  {
   "cell_type": "code",
   "execution_count": null,
   "id": "7aa7540c",
   "metadata": {},
   "outputs": [],
   "source": [
    "serie_dados.index = ['Z', 'X', 'V', 'A', 'B']\n",
    "serie_dados"
   ]
  },
  {
   "cell_type": "code",
   "execution_count": null,
   "id": "ce239c8f",
   "metadata": {},
   "outputs": [],
   "source": [
    "valores = np.random.random(10)\n",
    "indexes = np.arange(0, 10)\n",
    "print(valores)\n",
    "print(indexes)"
   ]
  },
  {
   "cell_type": "code",
   "execution_count": null,
   "id": "5ab30b51",
   "metadata": {},
   "outputs": [],
   "source": [
    "type(valores), type(indexes)"
   ]
  },
  {
   "cell_type": "code",
   "execution_count": null,
   "id": "127f69ea",
   "metadata": {},
   "outputs": [],
   "source": [
    "serie_dados = pd.Series(valores, indexes)\n",
    "print(serie_dados)"
   ]
  },
  {
   "cell_type": "code",
   "execution_count": null,
   "id": "de86432d",
   "metadata": {},
   "outputs": [],
   "source": [
    "serie_dados.index"
   ]
  },
  {
   "cell_type": "code",
   "execution_count": null,
   "id": "e8ab43bb",
   "metadata": {},
   "outputs": [],
   "source": [
    "dicionario = {'João': 10, 'Alice': 5, 'Gustavo': 6, 'Pedro': 9}\n",
    "type(dicionario)"
   ]
  },
  {
   "cell_type": "code",
   "execution_count": null,
   "id": "6bf202b9",
   "metadata": {},
   "outputs": [],
   "source": [
    "dict_serie_dados = pd.Series(dicionario)\n",
    "print(dict_serie_dados)"
   ]
  },
  {
   "cell_type": "code",
   "execution_count": null,
   "id": "31369961",
   "metadata": {},
   "outputs": [],
   "source": [
    "dict_serie_dados.dtype"
   ]
  },
  {
   "cell_type": "markdown",
   "id": "9c0442e5",
   "metadata": {},
   "source": [
    "### Fatiamento (slicing)"
   ]
  },
  {
   "cell_type": "code",
   "execution_count": null,
   "id": "42f2cdff",
   "metadata": {},
   "outputs": [],
   "source": [
    "serie_dados[:] # Retorna todos os dados"
   ]
  },
  {
   "cell_type": "code",
   "execution_count": null,
   "id": "b9a3a1a3",
   "metadata": {},
   "outputs": [],
   "source": [
    "# Filtro por linhas\n",
    "serie_dados[0:3]"
   ]
  },
  {
   "cell_type": "code",
   "execution_count": null,
   "id": "8365c84e",
   "metadata": {},
   "outputs": [],
   "source": [
    "serie_dados[:4] # Ele entende que queremos todos os dados até o índice 4"
   ]
  },
  {
   "cell_type": "code",
   "execution_count": null,
   "id": "2f9e7545",
   "metadata": {},
   "outputs": [],
   "source": [
    "serie_dados[-1:] # Retorna a última linha"
   ]
  },
  {
   "cell_type": "code",
   "execution_count": null,
   "id": "bc2f4ff9",
   "metadata": {},
   "outputs": [],
   "source": [
    "serie_dados[:-1] # Todos os dados, com exceção do último"
   ]
  },
  {
   "cell_type": "code",
   "execution_count": null,
   "id": "e8ad549a",
   "metadata": {},
   "outputs": [],
   "source": [
    "# Podemos criar variáveis com fatias\n",
    "s3 = serie_dados[:3]\n",
    "s3"
   ]
  },
  {
   "cell_type": "markdown",
   "id": "bdf708da",
   "metadata": {},
   "source": [
    "### Cópia, conversão e concatenação"
   ]
  },
  {
   "cell_type": "code",
   "execution_count": null,
   "id": "91d6cd8b",
   "metadata": {},
   "outputs": [],
   "source": [
    "# Toda vez que eu quiser copiar uma série sem que quaisquer modificações reflitam na nossa série original\n",
    "serie_dados_2 = serie_dados.copy()"
   ]
  },
  {
   "cell_type": "code",
   "execution_count": null,
   "id": "5aa36058",
   "metadata": {},
   "outputs": [],
   "source": [
    "# No nosso caso, o tipo do nosso dado é:\n",
    "serie_dados_2.dtype\n",
    "\n",
    "# Para fazer o casting, por exemplo, para inteiros:\n",
    "serie_dados_2.astype(int) # Como não estamos atribuindo os valores da séria a nada, esse comando não afeta nossa série (a = a.astype(...))\n",
    "serie_dados_2.dtype"
   ]
  },
  {
   "cell_type": "code",
   "execution_count": null,
   "id": "eb8ef949",
   "metadata": {},
   "outputs": [],
   "source": [
    "# É possível juntar duas séries, concatenando-as\n",
    "dados_novos = {'Gustavo': 20, 'Alana': 30}\n",
    "serie_dados_3 = pd.Series(dados_novos)\n",
    "\n",
    "serie_dados_3 = pd.concat([serie_dados_3, dict_serie_dados])\n",
    "serie_dados_3"
   ]
  }
 ],
 "metadata": {
  "kernelspec": {
   "display_name": "venv",
   "language": "python",
   "name": "python3"
  },
  "language_info": {
   "codemirror_mode": {
    "name": "ipython",
    "version": 3
   },
   "file_extension": ".py",
   "mimetype": "text/x-python",
   "name": "python",
   "nbconvert_exporter": "python",
   "pygments_lexer": "ipython3",
   "version": "3.10.13"
  }
 },
 "nbformat": 4,
 "nbformat_minor": 5
}
