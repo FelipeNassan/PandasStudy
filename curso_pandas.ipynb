{
 "cells": [
  {
   "cell_type": "markdown",
   "id": "1ce24ad8",
   "metadata": {},
   "source": [
    "# Pandas"
   ]
  },
  {
   "cell_type": "code",
   "execution_count": null,
   "id": "819d419b",
   "metadata": {},
   "outputs": [
    {
     "name": "stdout",
     "output_type": "stream",
     "text": [
      "2.3.0\n",
      "2.2.6\n"
     ]
    }
   ],
   "source": [
    "import pandas as pd\n",
    "import numpy as np\n",
    "\n",
    "print(pd.__version__)\n",
    "print(np.__version__)"
   ]
  },
  {
   "cell_type": "markdown",
   "id": "3942e807",
   "metadata": {},
   "source": [
    "# Series\n",
    "\n",
    "- Documentação: https://pandas.pydata.org/docs/reference/api/pandas.Series.html"
   ]
  },
  {
   "cell_type": "code",
   "execution_count": null,
   "id": "bde5b5e6",
   "metadata": {},
   "outputs": [
    {
     "name": "stdout",
     "output_type": "stream",
     "text": [
      "0    10\n",
      "1    20\n",
      "2    30\n",
      "3    40\n",
      "4    50\n",
      "dtype: int64\n"
     ]
    }
   ],
   "source": [
    "serie_dados = pd.Series([10, 20, 30, 40, 50])\n",
    "print(serie_dados) # aparece o tipo (dtype) dos valores"
   ]
  },
  {
   "cell_type": "code",
   "execution_count": null,
   "id": "8fa9bfdb",
   "metadata": {},
   "outputs": [
    {
     "data": {
      "text/plain": [
       "pandas.core.series.Series"
      ]
     },
     "execution_count": 5,
     "metadata": {},
     "output_type": "execute_result"
    }
   ],
   "source": [
    "type(serie_dados) # Tipo de dados da série"
   ]
  },
  {
   "cell_type": "code",
   "execution_count": 6,
   "id": "36f61c8d",
   "metadata": {},
   "outputs": [
    {
     "name": "stdout",
     "output_type": "stream",
     "text": [
      "A    10\n",
      "B    20\n",
      "C    30\n",
      "D    40\n",
      "E    50\n",
      "dtype: int64\n"
     ]
    }
   ],
   "source": [
    "array_inteiros = [10, 20, 30, 40, 50]\n",
    "indices = ['A', 'B', 'C', 'D', 'E']\n",
    "serie_dados = pd.Series(array_inteiros, index=indices)\n",
    "print(serie_dados)"
   ]
  },
  {
   "cell_type": "code",
   "execution_count": 7,
   "id": "cc61bf43",
   "metadata": {},
   "outputs": [
    {
     "name": "stdout",
     "output_type": "stream",
     "text": [
      "[10 20 30 40 50]\n"
     ]
    }
   ],
   "source": [
    "np_array_inteiros = np.array([10, 20, 30, 40, 50])\n",
    "print(np_array_inteiros)"
   ]
  },
  {
   "cell_type": "code",
   "execution_count": 8,
   "id": "85a0b6c5",
   "metadata": {},
   "outputs": [
    {
     "data": {
      "text/plain": [
       "numpy.ndarray"
      ]
     },
     "execution_count": 8,
     "metadata": {},
     "output_type": "execute_result"
    }
   ],
   "source": [
    "type(np_array_inteiros)"
   ]
  },
  {
   "cell_type": "code",
   "execution_count": 9,
   "id": "82a46ea5",
   "metadata": {},
   "outputs": [
    {
     "name": "stdout",
     "output_type": "stream",
     "text": [
      "0    10\n",
      "1    20\n",
      "2    30\n",
      "3    40\n",
      "4    50\n",
      "dtype: int64\n"
     ]
    }
   ],
   "source": [
    "serie_dados = pd.Series(array_inteiros)\n",
    "print(serie_dados)"
   ]
  },
  {
   "cell_type": "code",
   "execution_count": 10,
   "id": "163c41c9",
   "metadata": {},
   "outputs": [
    {
     "data": {
      "text/plain": [
       "(5,)"
      ]
     },
     "execution_count": 10,
     "metadata": {},
     "output_type": "execute_result"
    }
   ],
   "source": [
    "serie_dados.shape"
   ]
  },
  {
   "cell_type": "code",
   "execution_count": 11,
   "id": "119726c1",
   "metadata": {},
   "outputs": [
    {
     "data": {
      "text/plain": [
       "1"
      ]
     },
     "execution_count": 11,
     "metadata": {},
     "output_type": "execute_result"
    }
   ],
   "source": [
    "serie_dados.ndim"
   ]
  },
  {
   "cell_type": "code",
   "execution_count": 12,
   "id": "7bdc1a4f",
   "metadata": {},
   "outputs": [
    {
     "data": {
      "text/plain": [
       "5"
      ]
     },
     "execution_count": 12,
     "metadata": {},
     "output_type": "execute_result"
    }
   ],
   "source": [
    "serie_dados.size"
   ]
  },
  {
   "cell_type": "code",
   "execution_count": 13,
   "id": "7aa7540c",
   "metadata": {},
   "outputs": [
    {
     "data": {
      "text/plain": [
       "Z    10\n",
       "X    20\n",
       "V    30\n",
       "A    40\n",
       "B    50\n",
       "dtype: int64"
      ]
     },
     "execution_count": 13,
     "metadata": {},
     "output_type": "execute_result"
    }
   ],
   "source": [
    "serie_dados.index = ['Z', 'X', 'V', 'A', 'B']\n",
    "serie_dados"
   ]
  },
  {
   "cell_type": "code",
   "execution_count": 57,
   "id": "ce239c8f",
   "metadata": {},
   "outputs": [
    {
     "name": "stdout",
     "output_type": "stream",
     "text": [
      "[0.98856084 0.92299621 0.49454362 0.84469341 0.77854895 0.51651711\n",
      " 0.67826575 0.83756395 0.15057579 0.3879482 ]\n",
      "[0 1 2 3 4 5 6 7 8 9]\n"
     ]
    }
   ],
   "source": [
    "valores = np.random.random(10)\n",
    "indexes = np.arange(0, 10)\n",
    "print(valores)\n",
    "print(indexes)"
   ]
  },
  {
   "cell_type": "code",
   "execution_count": 58,
   "id": "5ab30b51",
   "metadata": {},
   "outputs": [
    {
     "data": {
      "text/plain": [
       "(numpy.ndarray, numpy.ndarray)"
      ]
     },
     "execution_count": 58,
     "metadata": {},
     "output_type": "execute_result"
    }
   ],
   "source": [
    "type(valores), type(indexes)"
   ]
  },
  {
   "cell_type": "code",
   "execution_count": 62,
   "id": "127f69ea",
   "metadata": {},
   "outputs": [
    {
     "name": "stdout",
     "output_type": "stream",
     "text": [
      "0    0.988561\n",
      "1    0.922996\n",
      "2    0.494544\n",
      "3    0.844693\n",
      "4    0.778549\n",
      "5    0.516517\n",
      "6    0.678266\n",
      "7    0.837564\n",
      "8    0.150576\n",
      "9    0.387948\n",
      "dtype: float64\n"
     ]
    }
   ],
   "source": [
    "serie_dados = pd.Series(valores, indexes)\n",
    "print(serie_dados)"
   ]
  },
  {
   "cell_type": "code",
   "execution_count": 63,
   "id": "de86432d",
   "metadata": {},
   "outputs": [
    {
     "data": {
      "text/plain": [
       "Index([0, 1, 2, 3, 4, 5, 6, 7, 8, 9], dtype='int64')"
      ]
     },
     "execution_count": 63,
     "metadata": {},
     "output_type": "execute_result"
    }
   ],
   "source": [
    "serie_dados.index"
   ]
  },
  {
   "cell_type": "code",
   "execution_count": 64,
   "id": "e8ab43bb",
   "metadata": {},
   "outputs": [
    {
     "data": {
      "text/plain": [
       "dict"
      ]
     },
     "execution_count": 64,
     "metadata": {},
     "output_type": "execute_result"
    }
   ],
   "source": [
    "dicionario = {'João': 10, 'Alice': 5, 'Gustavo': 6, 'Pedro': 9}\n",
    "type(dicionario)"
   ]
  },
  {
   "cell_type": "code",
   "execution_count": 65,
   "id": "6bf202b9",
   "metadata": {},
   "outputs": [
    {
     "name": "stdout",
     "output_type": "stream",
     "text": [
      "João       10\n",
      "Alice       5\n",
      "Gustavo     6\n",
      "Pedro       9\n",
      "dtype: int64\n"
     ]
    }
   ],
   "source": [
    "dict_serie_dados = pd.Series(dicionario)\n",
    "print(dict_serie_dados)"
   ]
  },
  {
   "cell_type": "code",
   "execution_count": 66,
   "id": "31369961",
   "metadata": {},
   "outputs": [
    {
     "data": {
      "text/plain": [
       "dtype('int64')"
      ]
     },
     "execution_count": 66,
     "metadata": {},
     "output_type": "execute_result"
    }
   ],
   "source": [
    "dict_serie_dados.dtype"
   ]
  },
  {
   "cell_type": "markdown",
   "id": "fa75ac44",
   "metadata": {},
   "source": [
    "## Criação de series"
   ]
  },
  {
   "cell_type": "markdown",
   "id": "9c0442e5",
   "metadata": {},
   "source": [
    "## Fatiamento (slicing)"
   ]
  },
  {
   "cell_type": "markdown",
   "id": "bdf708da",
   "metadata": {},
   "source": [
    "## Cópia, conversão e concatenação"
   ]
  }
 ],
 "metadata": {
  "kernelspec": {
   "display_name": "venv",
   "language": "python",
   "name": "python3"
  },
  "language_info": {
   "codemirror_mode": {
    "name": "ipython",
    "version": 3
   },
   "file_extension": ".py",
   "mimetype": "text/x-python",
   "name": "python",
   "nbconvert_exporter": "python",
   "pygments_lexer": "ipython3",
   "version": "3.10.13"
  }
 },
 "nbformat": 4,
 "nbformat_minor": 5
}
